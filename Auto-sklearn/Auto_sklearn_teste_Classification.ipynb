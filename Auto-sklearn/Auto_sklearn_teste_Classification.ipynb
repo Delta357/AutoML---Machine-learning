{
  "nbformat": 4,
  "nbformat_minor": 0,
  "metadata": {
    "colab": {
      "private_outputs": true,
      "provenance": []
    },
    "kernelspec": {
      "name": "python3",
      "display_name": "Python 3"
    },
    "language_info": {
      "name": "python"
    }
  },
  "cells": [
    {
      "cell_type": "code",
      "execution_count": null,
      "metadata": {
        "id": "10kGwsPL5Ns0"
      },
      "outputs": [],
      "source": [
        "!pip install auto-sklearn"
      ]
    },
    {
      "cell_type": "code",
      "source": [
        "from pprint import pprint\n",
        "\n",
        "import sklearn.datasets\n",
        "import sklearn.metrics\n",
        "\n",
        "import autosklearn.classification"
      ],
      "metadata": {
        "id": "26-0lAxZ7lez"
      },
      "execution_count": null,
      "outputs": []
    },
    {
      "cell_type": "code",
      "source": [
        "X, y = sklearn.datasets.load_breast_cancer(return_X_y=True)"
      ],
      "metadata": {
        "id": "O9TrudB975_r"
      },
      "execution_count": null,
      "outputs": []
    },
    {
      "cell_type": "code",
      "source": [
        "X_train, X_test, y_train, y_test = sklearn.model_selection.train_test_split(X, y, random_state=1)"
      ],
      "metadata": {
        "id": "_heHt_hK7tMc"
      },
      "execution_count": null,
      "outputs": []
    },
    {
      "cell_type": "code",
      "source": [
        "X_train.shape"
      ],
      "metadata": {
        "id": "KH-0Y9Qv7tQy"
      },
      "execution_count": null,
      "outputs": []
    },
    {
      "cell_type": "code",
      "source": [
        "y_train.shape"
      ],
      "metadata": {
        "id": "hmZyuyzM7tUJ"
      },
      "execution_count": null,
      "outputs": []
    },
    {
      "cell_type": "code",
      "source": [
        "automl = autosklearn.classification.AutoSklearnClassifier(time_left_for_this_task=120,\n",
        "                                                          per_run_time_limit=30,\n",
        "                                                          tmp_folder=\"autosklearn_classification_example_tmp\",)\n",
        "\n",
        "automl.fit(X_train, \n",
        "           y_train, \n",
        "           dataset_name=\"breast_cancer\")"
      ],
      "metadata": {
        "id": "xf7eUaiW7tXp"
      },
      "execution_count": null,
      "outputs": []
    },
    {
      "cell_type": "code",
      "source": [
        "print(automl.leaderboard())"
      ],
      "metadata": {
        "id": "EcWstRTu7ta5"
      },
      "execution_count": null,
      "outputs": []
    },
    {
      "cell_type": "code",
      "source": [
        "pprint(automl.cv_results_)"
      ],
      "metadata": {
        "id": "eU1ub4QXCfxO"
      },
      "execution_count": null,
      "outputs": []
    },
    {
      "cell_type": "code",
      "source": [
        "pprint(automl.show_models(), indent=4)"
      ],
      "metadata": {
        "id": "8hAdvhWc7teb"
      },
      "execution_count": null,
      "outputs": []
    },
    {
      "cell_type": "code",
      "source": [
        "predictions = automl.predict(X_test)\n",
        "predictions"
      ],
      "metadata": {
        "id": "b73h0N_4B9L1"
      },
      "execution_count": null,
      "outputs": []
    },
    {
      "cell_type": "code",
      "source": [
        "print(\"Accuracy score:\", sklearn.metrics.accuracy_score(y_test, predictions))"
      ],
      "metadata": {
        "id": "Y2PlrSAAB9Pd"
      },
      "execution_count": null,
      "outputs": []
    },
    {
      "cell_type": "code",
      "source": [
        "print(\"Precision\", sklearn.metrics.precision_score(y_test, predictions))"
      ],
      "metadata": {
        "id": "IeNKp5FyB9Ss"
      },
      "execution_count": null,
      "outputs": []
    },
    {
      "cell_type": "code",
      "source": [
        "print(\"Recall\", sklearn.metrics.recall_score(y_test, predictions))"
      ],
      "metadata": {
        "id": "u8d_DzGfB9Vz"
      },
      "execution_count": null,
      "outputs": []
    },
    {
      "cell_type": "code",
      "source": [
        "from sklearn.metrics import confusion_matrix\n",
        "\n",
        "matrix_confusion = confusion_matrix(y_test, predictions)\n",
        "matrix_confusion"
      ],
      "metadata": {
        "id": "eDggy7s1CXqP"
      },
      "execution_count": null,
      "outputs": []
    },
    {
      "cell_type": "markdown",
      "source": [
        "# **Modelo 2**"
      ],
      "metadata": {
        "id": "udX3LbraDyNT"
      }
    },
    {
      "cell_type": "code",
      "source": [
        "automl = autosklearn.classification.AutoSklearnClassifier(time_left_for_this_task=60,\n",
        "                                                          per_run_time_limit=30,\n",
        "                                                          # Bellow two flags are provided to speed up calculations\n",
        "                                                          # Not recommended for a real implementation\n",
        "                                                          initial_configurations_via_metalearning=0,\n",
        "                                                          smac_scenario_args={\"runcount_limit\": 1},)\n",
        "automl.fit(X_train, y_train, dataset_name=\"reuters\")"
      ],
      "metadata": {
        "id": "ja7zqxNrCXuu"
      },
      "execution_count": null,
      "outputs": []
    },
    {
      "cell_type": "code",
      "source": [
        "print(automl.leaderboard())"
      ],
      "metadata": {
        "id": "Lg5IzJY6Ddfk"
      },
      "execution_count": null,
      "outputs": []
    },
    {
      "cell_type": "code",
      "source": [
        "pprint(automl.show_models(), indent=4)"
      ],
      "metadata": {
        "id": "67xWxSOIDgV5"
      },
      "execution_count": null,
      "outputs": []
    },
    {
      "cell_type": "code",
      "source": [
        "print(automl.sprint_statistics())"
      ],
      "metadata": {
        "id": "1pEi23biDgaE"
      },
      "execution_count": null,
      "outputs": []
    },
    {
      "cell_type": "code",
      "source": [
        "predictions2 = automl.predict(X_test)\n",
        "print(\"Accuracy score\", sklearn.metrics.accuracy_score(y_test, predictions2))"
      ],
      "metadata": {
        "id": "7Cf9-StJDmYT"
      },
      "execution_count": null,
      "outputs": []
    },
    {
      "cell_type": "code",
      "source": [
        "matrix_confusion2 = confusion_matrix(y_test, predictions2)\n",
        "matrix_confusion2"
      ],
      "metadata": {
        "id": "-BYgewQ1Dmbj"
      },
      "execution_count": null,
      "outputs": []
    },
    {
      "cell_type": "code",
      "source": [],
      "metadata": {
        "id": "PdLbITJWDmee"
      },
      "execution_count": null,
      "outputs": []
    },
    {
      "cell_type": "code",
      "source": [],
      "metadata": {
        "id": "OCya0zZkDgdx"
      },
      "execution_count": null,
      "outputs": []
    }
  ]
}