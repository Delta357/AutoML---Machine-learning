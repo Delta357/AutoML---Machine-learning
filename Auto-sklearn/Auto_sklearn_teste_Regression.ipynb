{
  "nbformat": 4,
  "nbformat_minor": 0,
  "metadata": {
    "colab": {
      "private_outputs": true,
      "provenance": []
    },
    "kernelspec": {
      "name": "python3",
      "display_name": "Python 3"
    },
    "language_info": {
      "name": "python"
    }
  },
  "cells": [
    {
      "cell_type": "code",
      "source": [
        "!pip install auto-sklearn"
      ],
      "metadata": {
        "id": "n2AWSzkPEKPY"
      },
      "execution_count": null,
      "outputs": []
    },
    {
      "cell_type": "code",
      "execution_count": null,
      "metadata": {
        "id": "WXrseX5ZD7eT"
      },
      "outputs": [],
      "source": [
        "from pprint import pprint\n",
        "\n",
        "import sklearn.datasets\n",
        "import sklearn.metrics\n",
        "\n",
        "import autosklearn.regression\n",
        "import matplotlib.pyplot as plt"
      ]
    },
    {
      "cell_type": "code",
      "source": [
        "X, y = sklearn.datasets.load_diabetes(return_X_y=True)"
      ],
      "metadata": {
        "id": "plMzT2QeEDUZ"
      },
      "execution_count": null,
      "outputs": []
    },
    {
      "cell_type": "code",
      "source": [
        "X_train, X_test, y_train, y_test = sklearn.model_selection.train_test_split(X, \n",
        "                                                                            y, \n",
        "                                                                            random_state=1)"
      ],
      "metadata": {
        "id": "sHAZFOylEDne"
      },
      "execution_count": null,
      "outputs": []
    },
    {
      "cell_type": "code",
      "source": [
        "X_train.shape"
      ],
      "metadata": {
        "id": "i_vm57CzEDre"
      },
      "execution_count": null,
      "outputs": []
    },
    {
      "cell_type": "code",
      "source": [
        "y_train.shape"
      ],
      "metadata": {
        "id": "Ag7LEbsFEDu3"
      },
      "execution_count": null,
      "outputs": []
    },
    {
      "cell_type": "code",
      "source": [
        "automl = autosklearn.regression.AutoSklearnRegressor(time_left_for_this_task=120,\n",
        "                                                     per_run_time_limit=30)\n",
        "\n",
        "automl.fit(X_train, y_train, dataset_name=\"diabetes\")"
      ],
      "metadata": {
        "id": "0_CJ8e7rEDyE"
      },
      "execution_count": null,
      "outputs": []
    },
    {
      "cell_type": "code",
      "source": [
        "print(automl.leaderboard())"
      ],
      "metadata": {
        "id": "h2ldf_M7ED1G"
      },
      "execution_count": null,
      "outputs": []
    },
    {
      "cell_type": "code",
      "source": [
        "pprint(automl.show_models(), indent=4)"
      ],
      "metadata": {
        "id": "x2NkT2gnFCZh"
      },
      "execution_count": null,
      "outputs": []
    },
    {
      "cell_type": "code",
      "source": [
        "train_predictions = automl.predict(X_train)\n",
        "train_predictions"
      ],
      "metadata": {
        "id": "RgxU5T6iGLbJ"
      },
      "execution_count": null,
      "outputs": []
    },
    {
      "cell_type": "code",
      "source": [
        "print(\"Train R2 score:\", sklearn.metrics.r2_score(y_train, train_predictions))"
      ],
      "metadata": {
        "id": "3aj_EBXfFCc2"
      },
      "execution_count": null,
      "outputs": []
    },
    {
      "cell_type": "code",
      "source": [
        "test_predictions = automl.predict(X_test)\n",
        "test_predictions"
      ],
      "metadata": {
        "id": "dwNj76iwGNBh"
      },
      "execution_count": null,
      "outputs": []
    },
    {
      "cell_type": "code",
      "source": [
        "print(\"Test R2 score:\", sklearn.metrics.r2_score(y_test, test_predictions))"
      ],
      "metadata": {
        "id": "qqveGi74FCgJ"
      },
      "execution_count": null,
      "outputs": []
    },
    {
      "cell_type": "code",
      "source": [
        "plt.scatter(train_predictions, y_train, label=\"Train samples\", c=\"#d95f02\")\n",
        "plt.scatter(test_predictions, y_test, label=\"Test samples\", c=\"#7570b3\")\n",
        "plt.xlabel(\"Predicted value\")\n",
        "plt.ylabel(\"True value\")\n",
        "plt.legend()\n",
        "plt.plot([30, 400], [30, 400], c=\"k\", zorder=0)\n",
        "plt.xlim([30, 400])\n",
        "plt.ylim([30, 400])\n",
        "plt.tight_layout()\n",
        "plt.show()"
      ],
      "metadata": {
        "id": "6o9r5cLaED4E"
      },
      "execution_count": null,
      "outputs": []
    },
    {
      "cell_type": "markdown",
      "source": [
        "# **Model 2**"
      ],
      "metadata": {
        "id": "isYDnuRmFN3c"
      }
    },
    {
      "cell_type": "code",
      "source": [
        "from sklearn.metrics import r2_score\n",
        "from sklearn.datasets import make_regression\n",
        "from sklearn.model_selection import train_test_split\n",
        "from autosklearn.regression import AutoSklearnRegressor"
      ],
      "metadata": {
        "id": "5uWEpmnHFNXG"
      },
      "execution_count": null,
      "outputs": []
    },
    {
      "cell_type": "code",
      "source": [
        "X, y = make_regression(n_samples=1000, \n",
        "                       n_features=10, \n",
        "                       n_informative=5, \n",
        "                       n_targets=3)"
      ],
      "metadata": {
        "id": "lpVU2npvFlmk"
      },
      "execution_count": null,
      "outputs": []
    },
    {
      "cell_type": "code",
      "source": [
        "X_train, X_test, y_train, y_test = train_test_split(X, y, random_state=1)"
      ],
      "metadata": {
        "id": "17ubvYhbFlp7"
      },
      "execution_count": null,
      "outputs": []
    },
    {
      "cell_type": "code",
      "source": [
        "X_train.shape"
      ],
      "metadata": {
        "id": "803bZi6UGEOv"
      },
      "execution_count": null,
      "outputs": []
    },
    {
      "cell_type": "code",
      "source": [
        "y_train.shape"
      ],
      "metadata": {
        "id": "fvfkMnn1GEbK"
      },
      "execution_count": null,
      "outputs": []
    },
    {
      "cell_type": "code",
      "source": [
        "automl = AutoSklearnRegressor(time_left_for_this_task=120,\n",
        "                              per_run_time_limit=30)\n",
        "\n",
        "automl.fit(X_train, y_train, dataset_name=\"synthetic\")"
      ],
      "metadata": {
        "id": "jC6Qocc_Flta"
      },
      "execution_count": null,
      "outputs": []
    },
    {
      "cell_type": "code",
      "source": [
        "print(automl.leaderboard())"
      ],
      "metadata": {
        "id": "qWDBU4VSFlwi"
      },
      "execution_count": null,
      "outputs": []
    },
    {
      "cell_type": "code",
      "source": [
        "pprint(automl.show_models(), indent=4)"
      ],
      "metadata": {
        "id": "JHRK6A0zFyUY"
      },
      "execution_count": null,
      "outputs": []
    },
    {
      "cell_type": "code",
      "source": [
        "predictions = automl.predict(X_test)\n",
        "predictions"
      ],
      "metadata": {
        "id": "6s4fo45yFyYF"
      },
      "execution_count": null,
      "outputs": []
    },
    {
      "cell_type": "code",
      "source": [
        "print(\"R2 score:\", r2_score(y_test, predictions))"
      ],
      "metadata": {
        "id": "9-72Kk2HFybO"
      },
      "execution_count": null,
      "outputs": []
    },
    {
      "cell_type": "code",
      "source": [
        "# The configuration space is reduced, i.e. no SVM.\n",
        "print(automl.get_configuration_space(X_train, y_train))"
      ],
      "metadata": {
        "id": "0x5yR4N_Fyhw"
      },
      "execution_count": null,
      "outputs": []
    },
    {
      "cell_type": "code",
      "source": [],
      "metadata": {
        "id": "IEEZKtRbF_Bv"
      },
      "execution_count": null,
      "outputs": []
    },
    {
      "cell_type": "code",
      "source": [],
      "metadata": {
        "id": "zr7cD6YqF_Gp"
      },
      "execution_count": null,
      "outputs": []
    },
    {
      "cell_type": "code",
      "source": [],
      "metadata": {
        "id": "G4FyrDdFF_MH"
      },
      "execution_count": null,
      "outputs": []
    }
  ]
}