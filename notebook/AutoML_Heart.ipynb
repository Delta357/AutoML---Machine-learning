{
  "cells": [
    {
      "cell_type": "markdown",
      "metadata": {
        "id": "view-in-github",
        "colab_type": "text"
      },
      "source": [
        "<a href=\"https://colab.research.google.com/github/Delta357/AutoML---Machine-learning/blob/main/AutoML_Heart.ipynb\" target=\"_parent\"><img src=\"https://colab.research.google.com/assets/colab-badge.svg\" alt=\"Open In Colab\"/></a>"
      ]
    },
    {
      "cell_type": "code",
      "source": [
        "#!pip install pycaret"
      ],
      "metadata": {
        "id": "CMKR1dbv8xvg"
      },
      "execution_count": null,
      "outputs": []
    },
    {
      "cell_type": "code",
      "execution_count": null,
      "metadata": {
        "id": "76AFwO4cuAbC"
      },
      "outputs": [],
      "source": [
        "# Imports\n",
        "import numpy as np\n",
        "import pandas as pd\n",
        "import matplotlib.pyplot as plt\n",
        "import seaborn as sns\n",
        "from pycaret.classification import *\n",
        "\n",
        "# Parâmetros de configuração dos gráficos\n",
        "from matplotlib import rcParams\n",
        "\n",
        "rcParams['figure.figsize'] = 12, 4\n",
        "rcParams['lines.linewidth'] = 3\n",
        "rcParams['xtick.labelsize'] = 'x-large'\n",
        "rcParams['ytick.labelsize'] = 'x-large'\n",
        "\n",
        "# Versão da Linguagem Python\n",
        "from platform import python_version\n",
        "print('Versão da Linguagem Python Usada Neste Jupyter Notebook:', python_version())\n",
        "\n",
        "# Versões dos pacotes usados neste jupyter notebook\n",
        "#%reload_ext watermark\n",
        "#%watermark -a \"Verções bibliotecas\" --iversions\n",
        "\n",
        "import warnings\n",
        "warnings.filterwarnings(\"ignore\")"
      ]
    },
    {
      "cell_type": "markdown",
      "metadata": {
        "id": "2TH0ksRPvaiE"
      },
      "source": [
        "# **Base dados**"
      ]
    },
    {
      "cell_type": "code",
      "execution_count": null,
      "metadata": {
        "id": "PRLjlIHLui6K"
      },
      "outputs": [],
      "source": [
        "data = pd.read_csv(\"heart.csv\")\n",
        "data.head(35)"
      ]
    },
    {
      "cell_type": "code",
      "execution_count": null,
      "metadata": {
        "id": "4NleJZGtvq8R"
      },
      "outputs": [],
      "source": [
        "# Visualizando os 5 primeiros dados\n",
        "data.head(5)"
      ]
    },
    {
      "cell_type": "code",
      "execution_count": null,
      "metadata": {
        "id": "-lwiAV19vtrR"
      },
      "outputs": [],
      "source": [
        "# Visualizando os 5 últimos dados\n",
        "data.tail(5)"
      ]
    },
    {
      "cell_type": "code",
      "execution_count": null,
      "metadata": {
        "id": "WNBlaX3mvmGx"
      },
      "outputs": [],
      "source": [
        "# Visualizando linhas e colunas\n",
        "data.shape"
      ]
    },
    {
      "cell_type": "code",
      "execution_count": null,
      "metadata": {
        "id": "jwTCIguCvmKh"
      },
      "outputs": [],
      "source": [
        "# Informações dos dados\n",
        "data.info()"
      ]
    },
    {
      "cell_type": "code",
      "execution_count": null,
      "metadata": {
        "id": "3nMRMpe3vmNa"
      },
      "outputs": [],
      "source": [
        "# Tipo dados\n",
        "data.dtypes"
      ]
    },
    {
      "cell_type": "code",
      "execution_count": null,
      "metadata": {
        "id": "sRWh_AUIvmQc"
      },
      "outputs": [],
      "source": [
        "# Amostra simples 5 \n",
        "data.sample(5)"
      ]
    },
    {
      "cell_type": "markdown",
      "metadata": {
        "id": "s-fHb2zdxX74"
      },
      "source": [
        "# **Análise dados - 1**"
      ]
    },
    {
      "cell_type": "code",
      "execution_count": null,
      "metadata": {
        "id": "qt7b0o1IvmTZ"
      },
      "outputs": [],
      "source": [
        "# Variáveis categóricas e númericas\n",
        "data.columns"
      ]
    },
    {
      "cell_type": "code",
      "execution_count": null,
      "metadata": {
        "id": "_f8vkkyVwpKm"
      },
      "outputs": [],
      "source": [
        "# Colunas númericas\n",
        "nub = [\"age\", \n",
        "       \"sex\", \n",
        "       \"cp\", \n",
        "       \"trestbps\", \n",
        "       \"chol\", \n",
        "       \"fbs\", \t\n",
        "       \"restecg\", \n",
        "       \"thalach\", \n",
        "       \"exang\", \n",
        "       \"oldpeak\", \n",
        "       \"slope\",\t\n",
        "       \"ca\",\t\n",
        "       \"thal\"]\n",
        "\n",
        "# Coluna target\n",
        "target = [\"target\"]"
      ]
    },
    {
      "cell_type": "code",
      "execution_count": null,
      "metadata": {
        "id": "NpXNS143wpRG"
      },
      "outputs": [],
      "source": [
        "# Total\n",
        "data[\"trestbps\"].value_counts()"
      ]
    },
    {
      "cell_type": "code",
      "execution_count": null,
      "metadata": {
        "id": "wlwXfE9GwpU9"
      },
      "outputs": [],
      "source": [
        "# Variavel target\n",
        "target = [\"target\"]"
      ]
    },
    {
      "cell_type": "markdown",
      "metadata": {
        "id": "aVz31bILxRuJ"
      },
      "source": [
        "# **Explorando as variáveis númericas**"
      ]
    },
    {
      "cell_type": "code",
      "execution_count": null,
      "metadata": {
        "id": "N4uTp_HDwpY-"
      },
      "outputs": [],
      "source": [
        "# Resumo variáveis numéricas\n",
        "data[nub].describe()"
      ]
    },
    {
      "cell_type": "markdown",
      "metadata": {
        "id": "-d6wIQmyxgN3"
      },
      "source": [
        "Algumas observações:\n",
        "\n",
        "1. As colunas `trestbps`, `chol` e `fbs` parecem ter uma distribuição bastante simétrica (média e mediana não são muito diferentes).\n",
        "\n",
        "2. As colunas `restecg` e `exang` parecem estar inclinadas para a direita (Média maior do que a Mediana).\n",
        "\n",
        "3. A coluna `cp` parece estar mais inclinada para a esquerda (Média menor do que a Mediana)."
      ]
    },
    {
      "cell_type": "code",
      "execution_count": null,
      "metadata": {
        "id": "90pr5FREvmWS"
      },
      "outputs": [],
      "source": [
        "plt.figure(figsize=(10.5, 5))\n",
        "\n",
        "sns.countplot(data[\"target\"])"
      ]
    },
    {
      "cell_type": "code",
      "execution_count": null,
      "metadata": {
        "id": "iYQcNDvKvmZR"
      },
      "outputs": [],
      "source": [
        "sns.histplot(data[\"age\"])"
      ]
    },
    {
      "cell_type": "code",
      "execution_count": null,
      "metadata": {
        "id": "rptUaijhzRPa"
      },
      "outputs": [],
      "source": [
        "fig , axes = plt.subplots(nrows=3,ncols=3 , figsize = (20, 22))\n",
        "\n",
        "ax = sns.distplot(data[\"trestbps\"] , ax=axes[0, 0])\n",
        "ax = sns.distplot(data[\"chol\"] ,  ax=axes[0, 1])\n",
        "ax = sns.distplot(data[\"fbs\"] , ax=axes[0, 2])\n",
        "ax = sns.distplot(data[\"restecg\"], ax=axes[1, 0] )\n",
        "ax = sns.distplot(data[\"thalach\"] , ax=axes[1, 1] )\n",
        "ax = sns.distplot(data[\"exang\"] , ax=axes[1, 2] )\n",
        "ax = sns.distplot(data[\"oldpeak\"] , ax=axes[2, 0])\n",
        "ax = sns.distplot(data[\"slope\"], ax=axes[2, 1])\n",
        "ax = sns.distplot(data[\"thal\"], ax=axes[2, 2])\n",
        "\n",
        "\n",
        "plt.show()"
      ]
    },
    {
      "cell_type": "code",
      "execution_count": null,
      "metadata": {
        "id": "HNNmgHvKzRVq"
      },
      "outputs": [],
      "source": [
        "fig,ax = plt.subplots(1,2,figsize=(13,5))\n",
        "sns.boxplot(y=data['trestbps'],x=data['target'],ax=ax[0])\n",
        "sns.boxplot(y=data['trestbps'],x=data['target'],ax=ax[1])\n",
        "plt.tight_layout()"
      ]
    },
    {
      "cell_type": "code",
      "execution_count": null,
      "metadata": {
        "id": "djAKF08GvmkM"
      },
      "outputs": [],
      "source": [
        "features = nub\n",
        "plt.figure(figsize = (20, 10))\n",
        "for i in range(0, len(nub)):\n",
        "    plt.subplot(3, len(nub)/2, i+1)\n",
        "    sns.histplot(x = data[features[i]], kde = True, color = 'blue')\n",
        "    plt.xlabel(features[i])\n",
        "    plt.tight_layout()"
      ]
    },
    {
      "cell_type": "code",
      "execution_count": null,
      "metadata": {
        "id": "ErICN8rSyEDc"
      },
      "outputs": [],
      "source": [
        "features = nub\n",
        "plt.figure(figsize = (20, 10))\n",
        "for i in range(0, len(nub)):\n",
        "    plt.subplot(3, len(nub)/2, i+1)\n",
        "    sns.boxplot(x = data[features[i]], color = 'blue')\n",
        "    plt.xlabel(features[i])\n",
        "    plt.tight_layout()"
      ]
    },
    {
      "cell_type": "code",
      "execution_count": null,
      "metadata": {
        "id": "TkIQ1QcZySvV"
      },
      "outputs": [],
      "source": [
        "plt.figure(figsize=(20, 10))\n",
        "\n",
        "sns.countplot(data = data, x=data[\"age\"], hue = \"target\")"
      ]
    },
    {
      "cell_type": "code",
      "execution_count": null,
      "metadata": {
        "id": "ERCREQPtyhxc"
      },
      "outputs": [],
      "source": [
        "# Correlação das colunas númericas\n",
        "data[nub].corr()"
      ]
    },
    {
      "cell_type": "code",
      "execution_count": null,
      "metadata": {
        "id": "G9Mb3mgpyqIx"
      },
      "outputs": [],
      "source": [
        "# Correlação\n",
        "data_corr = data[nub].corr()\n",
        "data_corr"
      ]
    },
    {
      "cell_type": "code",
      "execution_count": null,
      "metadata": {
        "id": "xv_y_RVByqMQ"
      },
      "outputs": [],
      "source": [
        "# Gráfico\n",
        "plt.figure(figsize = (10.8, 8))\n",
        "sns.heatmap(data_corr, cmap = 'Blues', annot = True, fmt = '.2f')"
      ]
    },
    {
      "cell_type": "code",
      "execution_count": null,
      "metadata": {
        "id": "VHm-BjJRyqPt"
      },
      "outputs": [],
      "source": [
        "plt.figure(figsize = (15, 15))\n",
        "sns.pairplot(data[nub], diag_kind = 'kde')"
      ]
    },
    {
      "cell_type": "markdown",
      "metadata": {
        "id": "hTxIqy430k36"
      },
      "source": [
        "# **AutoML Modelo**"
      ]
    },
    {
      "cell_type": "code",
      "execution_count": null,
      "metadata": {
        "id": "BbXjQvjiyqT5"
      },
      "outputs": [],
      "source": [
        "# Nessa função ele cria o pipeline transformação modelo \n",
        "# Segunda parte setup deve ser chamada antes de executar para função.\n",
        "\n",
        "# Model\n",
        "# Raiz da base dados\n",
        "model = setup(data = data,\n",
        "      # Features target\n",
        "      target = \"target\",\n",
        "\n",
        "      # Os valores ausentes em recursos numéricos são imputados com o valor 'médio' do recurso no conjunto de dados de treinamento. \n",
        "      # A outra opção disponível é 'mediana' ou 'zero'.\n",
        "      numeric_imputation = 'mean',\n",
        "\n",
        "      # Controla a entrada de confirmação de tipos de dados quando setupé executado. \n",
        "      # Ao executar em modo totalmente automatizado ou em um kernel remoto, deve ser True.\n",
        "      silent = True)"
      ]
    },
    {
      "cell_type": "code",
      "execution_count": null,
      "metadata": {
        "id": "SOE7wiNMypSA"
      },
      "outputs": [],
      "source": [
        "# Essa função treina e avalia o desempenho de todos os estimadores disponíveis na biblioteca de modelos usando validação cruzada. \n",
        "# A saída dessa função é uma grade de pontuação com pontuações médias de validação cruzada. \n",
        "# As métricas avaliadas durante o CV podem ser acessadas usando a função get_metrics. \n",
        "# As métricas personalizadas podem ser adicionadas ou removidas usando as funções add_metric e remove_metric.\n",
        "compare_models()"
      ]
    },
    {
      "cell_type": "code",
      "execution_count": null,
      "metadata": {
        "id": "fsS7o1wH1vHR"
      },
      "outputs": [],
      "source": [
        "Random_Forest = create_model('rf')"
      ]
    },
    {
      "cell_type": "code",
      "execution_count": null,
      "metadata": {
        "id": "EjL9Ss3u1vMW"
      },
      "outputs": [],
      "source": [
        "Tuned_Random_Forest = tune_model(Random_Forest)"
      ]
    },
    {
      "cell_type": "code",
      "execution_count": null,
      "metadata": {
        "id": "sRg0Zzr_1vPo"
      },
      "outputs": [],
      "source": [
        "plot_model(estimator = Tuned_Random_Forest, plot = 'learning')"
      ]
    },
    {
      "cell_type": "code",
      "execution_count": null,
      "metadata": {
        "id": "cKZ6-qxh1vTS"
      },
      "outputs": [],
      "source": [
        "plot_model(estimator = Tuned_Random_Forest, plot = 'auc')"
      ]
    },
    {
      "cell_type": "code",
      "execution_count": null,
      "metadata": {
        "id": "zm7eFrif1vWh"
      },
      "outputs": [],
      "source": [
        "plot_model(estimator = Tuned_Random_Forest, plot = 'confusion_matrix')"
      ]
    },
    {
      "cell_type": "code",
      "execution_count": null,
      "metadata": {
        "id": "6l6zf4iE1vai"
      },
      "outputs": [],
      "source": [
        "plot_model( estimator = Tuned_Random_Forest, plot = 'feature')"
      ]
    },
    {
      "cell_type": "code",
      "execution_count": null,
      "metadata": {
        "id": "qse3nduT1vdz"
      },
      "outputs": [],
      "source": [
        "evaluate_model(Tuned_Random_Forest)"
      ]
    },
    {
      "cell_type": "code",
      "execution_count": null,
      "metadata": {
        "id": "abciDHd61vhJ"
      },
      "outputs": [],
      "source": [
        "interpret_model( Tuned_Random_Forest )"
      ]
    },
    {
      "cell_type": "markdown",
      "metadata": {
        "id": "KcX5l7CL23hv"
      },
      "source": [
        "# **Modelo 02 - AutoML**"
      ]
    },
    {
      "cell_type": "code",
      "execution_count": null,
      "metadata": {
        "id": "mmYhoytJ22dH"
      },
      "outputs": [],
      "source": [
        "model = setup(data, \n",
        "             target = \"target\",\n",
        "             session_id = 123, \n",
        "             log_experiment = True, \n",
        "             numeric_imputation = 'mean',\n",
        "             silent = True)"
      ]
    },
    {
      "cell_type": "code",
      "execution_count": null,
      "metadata": {
        "id": "ZJ6VIuzZ22jD"
      },
      "outputs": [],
      "source": [
        "# Modelos melhores\n",
        "model = compare_models()"
      ]
    },
    {
      "cell_type": "code",
      "execution_count": null,
      "metadata": {
        "id": "kgvd3rV222m5"
      },
      "outputs": [],
      "source": [
        "# Modelo Logistic Regression \n",
        "lr = create_model('lr')"
      ]
    },
    {
      "cell_type": "code",
      "execution_count": null,
      "metadata": {
        "id": "CIQSx7mf8HcW"
      },
      "outputs": [],
      "source": [
        "# Model decision tree\n",
        "dt = create_model('dt')"
      ]
    },
    {
      "cell_type": "code",
      "execution_count": null,
      "metadata": {
        "id": "dN4KZeJZ8HcW"
      },
      "outputs": [],
      "source": [
        "# Model random forest classifier\n",
        "rf = create_model('rf', fold = 10)"
      ]
    },
    {
      "cell_type": "code",
      "execution_count": null,
      "metadata": {
        "id": "FpFuw1NR8HcW"
      },
      "outputs": [],
      "source": [
        "# Tuned dos modelos\n",
        "\n",
        "model_tuned_lr = tune_model(lr)\n",
        "model_tuned_rf = tune_model(rf)\n",
        "model_bagged_dt = ensemble_model(dt)"
      ]
    },
    {
      "cell_type": "code",
      "execution_count": null,
      "metadata": {
        "id": "kWIz5vea8HcX"
      },
      "outputs": [],
      "source": [
        "# Previsão do modelo de regressão logistica\n",
        "model_pred_lr = predict_model(lr)\n",
        "model_pred_lr.head()"
      ]
    },
    {
      "cell_type": "code",
      "execution_count": null,
      "metadata": {
        "id": "3vLQdaVI8HcX"
      },
      "outputs": [],
      "source": [
        "# Previsão do modelo decision tree\n",
        "model_pred_dt = predict_model(dt)\n",
        "model_pred_dt.head()"
      ]
    },
    {
      "cell_type": "code",
      "execution_count": null,
      "metadata": {
        "id": "h4qP6ZoW8HcX"
      },
      "outputs": [],
      "source": [
        "# Previsão do modelo random forest \n",
        "model_pred_rt = predict_model(rf)\n",
        "model_pred_rt.head()"
      ]
    },
    {
      "cell_type": "markdown",
      "metadata": {
        "id": "QbFE-jx38HcX"
      },
      "source": [
        "# Métricas do modelo"
      ]
    },
    {
      "cell_type": "code",
      "execution_count": null,
      "metadata": {
        "id": "brLWvGMy22qz"
      },
      "outputs": [],
      "source": [
        "# Evaluate modelo random forest \n",
        "evaluate_model(rf)"
      ]
    },
    {
      "cell_type": "code",
      "execution_count": null,
      "metadata": {
        "id": "oPZprZjh8HcY"
      },
      "outputs": [],
      "source": [
        "# Evaluate modelo regressão logistica\n",
        "evaluate_model(lr)"
      ]
    },
    {
      "cell_type": "code",
      "execution_count": null,
      "metadata": {
        "id": "jILutoOm8HcY"
      },
      "outputs": [],
      "source": [
        "# Evaluate modelo decision tree\n",
        "evaluate_model(dt)"
      ]
    },
    {
      "cell_type": "markdown",
      "metadata": {
        "id": "qIdUmZns8HcY"
      },
      "source": [
        "# Curva roc do modelos"
      ]
    },
    {
      "cell_type": "code",
      "execution_count": null,
      "metadata": {
        "id": "QfBK_6JA8HcY"
      },
      "outputs": [],
      "source": [
        "# Curva roc do modelo random forest \n",
        "plot_model(rf)"
      ]
    },
    {
      "cell_type": "code",
      "execution_count": null,
      "metadata": {
        "id": "c5g5yvsd8HcY"
      },
      "outputs": [],
      "source": [
        "# Curva roc do modelo regressão logistica \n",
        "plot_model(lr)"
      ]
    },
    {
      "cell_type": "code",
      "execution_count": null,
      "metadata": {
        "id": "23vmbbau8HcY"
      },
      "outputs": [],
      "source": [
        "# Curva roc do modelo decision tree \n",
        "plot_model(dt)"
      ]
    },
    {
      "cell_type": "markdown",
      "metadata": {
        "id": "a4wsdhhf8HcZ"
      },
      "source": [
        "# Confusion matrix"
      ]
    },
    {
      "cell_type": "code",
      "execution_count": null,
      "metadata": {
        "id": "N-Vip8OD8HcZ"
      },
      "outputs": [],
      "source": [
        "plot_model(rf, plot = 'confusion_matrix')"
      ]
    },
    {
      "cell_type": "code",
      "execution_count": null,
      "metadata": {
        "id": "fVHbKNJG8HcZ"
      },
      "outputs": [],
      "source": [
        "plot_model(lr, plot = 'confusion_matrix')"
      ]
    },
    {
      "cell_type": "code",
      "execution_count": null,
      "metadata": {
        "id": "qVlu86V58HcZ"
      },
      "outputs": [],
      "source": [
        "plot_model(dt, plot = 'confusion_matrix')"
      ]
    },
    {
      "cell_type": "markdown",
      "metadata": {
        "id": "aCXqFEmb8HcZ"
      },
      "source": [
        "# Class report dos modelos"
      ]
    },
    {
      "cell_type": "code",
      "execution_count": null,
      "metadata": {
        "id": "AY2GQATr8HcZ"
      },
      "outputs": [],
      "source": [
        "plot_model(lr, plot = 'class_report')"
      ]
    },
    {
      "cell_type": "code",
      "execution_count": null,
      "metadata": {
        "id": "D-y2R3rB8Hca"
      },
      "outputs": [],
      "source": [
        "plot_model(rf, plot = 'class_report')"
      ]
    },
    {
      "cell_type": "code",
      "execution_count": null,
      "metadata": {
        "id": "jUBJacVe8Hca"
      },
      "outputs": [],
      "source": [
        "plot_model(dt, plot = 'class_report')"
      ]
    },
    {
      "cell_type": "markdown",
      "metadata": {
        "id": "Exvj6WJJ8Hca"
      },
      "source": [
        "# Salvando modelo"
      ]
    },
    {
      "cell_type": "code",
      "execution_count": null,
      "metadata": {
        "id": "JTPhHyUZ8Hca"
      },
      "outputs": [],
      "source": [
        "save_model(lr, model_name='best-model')"
      ]
    },
    {
      "cell_type": "markdown",
      "metadata": {
        "id": "OojWErit8Hca"
      },
      "source": [
        "# Conclusão\n",
        "\n",
        "**Nesse modelo de classificação utlizei 3 modelos machine learning são eles regressão logística, random forest, decision tree o melhores modelos foi o regressão logística, random forest, extra trees, K-NN, ridge classifier esse objetivo do modelo e classificar tumores de câncer de mama são classificado por benignos, malignos. O resultado da matriz de confusão do primeiro modelo de regressão logística teve 132 para maligno e 73 para benigno. O modelo teve resultado ótimos no recal acima de 95,9% teve acerto total ou seja o modelo aprendeu muito**"
      ]
    },
    {
      "cell_type": "markdown",
      "metadata": {
        "id": "3b19vKKO8Hcb"
      },
      "source": [
        "# Referência\n",
        "\n",
        "- https://pycaret.org/\n",
        "- https://github.com/pycaret/pycaret\n",
        "- https://pycaret.readthedocs.io/en/latest/\n",
        "- https://medium.com/ensina-ai/pycaret-a-biblioteca-de-aprendizagem-de-m%C3%A1quinas-para-quem-tem-prazo-1c5b09667763"
      ]
    },
    {
      "cell_type": "code",
      "execution_count": null,
      "metadata": {
        "id": "W54s0smI8Hcb"
      },
      "outputs": [],
      "source": []
    }
  ],
  "metadata": {
    "colab": {
      "private_outputs": true,
      "provenance": [],
      "include_colab_link": true
    },
    "kernelspec": {
      "display_name": "Python 3 (ipykernel)",
      "language": "python",
      "name": "python3"
    },
    "language_info": {
      "codemirror_mode": {
        "name": "ipython",
        "version": 3
      },
      "file_extension": ".py",
      "mimetype": "text/x-python",
      "name": "python",
      "nbconvert_exporter": "python",
      "pygments_lexer": "ipython3",
      "version": "3.9.7"
    }
  },
  "nbformat": 4,
  "nbformat_minor": 0
}